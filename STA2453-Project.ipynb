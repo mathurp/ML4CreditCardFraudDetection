{
 "cells": [
  {
   "cell_type": "markdown",
   "metadata": {},
   "source": [
    "# STA2453 - Data Science Methods, Collaboration, and Communication\n",
    "\n",
    "# Credit Card Fraud Detection\n",
    "\n",
    "### Team -\n",
    "#### Pulkit Mathur\n",
    "#### Angad Kalra\n",
    "#### Shaung"
   ]
  },
  {
   "cell_type": "code",
   "execution_count": 1,
   "metadata": {},
   "outputs": [],
   "source": [
    "import pandas as pd\n",
    "import matplotlib.pyplot as plt\n",
    "import seaborn as sns\n",
    "sns.set(style=\"white\")\n",
    "sns.set(style=\"whitegrid\", color_codes=True)"
   ]
  },
  {
   "cell_type": "code",
   "execution_count": 2,
   "metadata": {},
   "outputs": [
    {
     "data": {
      "text/html": [
       "<div>\n",
       "<style scoped>\n",
       "    .dataframe tbody tr th:only-of-type {\n",
       "        vertical-align: middle;\n",
       "    }\n",
       "\n",
       "    .dataframe tbody tr th {\n",
       "        vertical-align: top;\n",
       "    }\n",
       "\n",
       "    .dataframe thead th {\n",
       "        text-align: right;\n",
       "    }\n",
       "</style>\n",
       "<table border=\"1\" class=\"dataframe\">\n",
       "  <thead>\n",
       "    <tr style=\"text-align: right;\">\n",
       "      <th></th>\n",
       "      <th>Time_Stamp</th>\n",
       "      <th>Transaction_Type</th>\n",
       "      <th>Amount</th>\n",
       "      <th>Client_Id</th>\n",
       "      <th>Client_Old_Balance</th>\n",
       "      <th>Cleint_New_Balance</th>\n",
       "      <th>Merchant_Id</th>\n",
       "      <th>Merchant_Old_Balance</th>\n",
       "      <th>Merchant_New_Balance</th>\n",
       "      <th>Is_Fraud</th>\n",
       "      <th>Is_Flagged_Fraud</th>\n",
       "    </tr>\n",
       "  </thead>\n",
       "  <tbody>\n",
       "    <tr>\n",
       "      <th>0</th>\n",
       "      <td>1</td>\n",
       "      <td>BILL-PAYMENT</td>\n",
       "      <td>9839.64</td>\n",
       "      <td>C494672677</td>\n",
       "      <td>170136.0</td>\n",
       "      <td>160296.36</td>\n",
       "      <td>M582455116</td>\n",
       "      <td>0.0</td>\n",
       "      <td>0.0</td>\n",
       "      <td>0</td>\n",
       "      <td>0</td>\n",
       "    </tr>\n",
       "    <tr>\n",
       "      <th>1</th>\n",
       "      <td>1</td>\n",
       "      <td>BILL-PAYMENT</td>\n",
       "      <td>1864.28</td>\n",
       "      <td>C502607876</td>\n",
       "      <td>21249.0</td>\n",
       "      <td>19384.72</td>\n",
       "      <td>C214000796</td>\n",
       "      <td>0.0</td>\n",
       "      <td>0.0</td>\n",
       "      <td>0</td>\n",
       "      <td>0</td>\n",
       "    </tr>\n",
       "    <tr>\n",
       "      <th>2</th>\n",
       "      <td>1</td>\n",
       "      <td>PURCHASE</td>\n",
       "      <td>181.00</td>\n",
       "      <td>C633112680</td>\n",
       "      <td>181.0</td>\n",
       "      <td>0.00</td>\n",
       "      <td>M1922059099</td>\n",
       "      <td>0.0</td>\n",
       "      <td>0.0</td>\n",
       "      <td>1</td>\n",
       "      <td>0</td>\n",
       "    </tr>\n",
       "    <tr>\n",
       "      <th>3</th>\n",
       "      <td>1</td>\n",
       "      <td>CASH_OUT</td>\n",
       "      <td>181.00</td>\n",
       "      <td>C1993768127</td>\n",
       "      <td>181.0</td>\n",
       "      <td>0.00</td>\n",
       "      <td>M245426835</td>\n",
       "      <td>21182.0</td>\n",
       "      <td>0.0</td>\n",
       "      <td>1</td>\n",
       "      <td>0</td>\n",
       "    </tr>\n",
       "    <tr>\n",
       "      <th>4</th>\n",
       "      <td>1</td>\n",
       "      <td>BILL-PAYMENT</td>\n",
       "      <td>11668.14</td>\n",
       "      <td>C1445837831</td>\n",
       "      <td>41554.0</td>\n",
       "      <td>29885.86</td>\n",
       "      <td>M1368211346</td>\n",
       "      <td>0.0</td>\n",
       "      <td>0.0</td>\n",
       "      <td>0</td>\n",
       "      <td>0</td>\n",
       "    </tr>\n",
       "  </tbody>\n",
       "</table>\n",
       "</div>"
      ],
      "text/plain": [
       "   Time_Stamp Transaction_Type    Amount    Client_Id  Client_Old_Balance  \\\n",
       "0           1     BILL-PAYMENT   9839.64   C494672677            170136.0   \n",
       "1           1     BILL-PAYMENT   1864.28   C502607876             21249.0   \n",
       "2           1         PURCHASE    181.00   C633112680               181.0   \n",
       "3           1         CASH_OUT    181.00  C1993768127               181.0   \n",
       "4           1     BILL-PAYMENT  11668.14  C1445837831             41554.0   \n",
       "\n",
       "   Cleint_New_Balance  Merchant_Id  Merchant_Old_Balance  \\\n",
       "0           160296.36   M582455116                   0.0   \n",
       "1            19384.72   C214000796                   0.0   \n",
       "2                0.00  M1922059099                   0.0   \n",
       "3                0.00   M245426835               21182.0   \n",
       "4            29885.86  M1368211346                   0.0   \n",
       "\n",
       "   Merchant_New_Balance  Is_Fraud  Is_Flagged_Fraud  \n",
       "0                   0.0         0                 0  \n",
       "1                   0.0         0                 0  \n",
       "2                   0.0         1                 0  \n",
       "3                   0.0         1                 0  \n",
       "4                   0.0         0                 0  "
      ]
     },
     "execution_count": 2,
     "metadata": {},
     "output_type": "execute_result"
    }
   ],
   "source": [
    "data = pd.read_csv('credit_card_fraud_data_v2.csv')\n",
    "data.head()"
   ]
  },
  {
   "cell_type": "markdown",
   "metadata": {},
   "source": [
    "## Exploratory Data Analysis"
   ]
  },
  {
   "cell_type": "markdown",
   "metadata": {},
   "source": [
    "##### Data Imbalance"
   ]
  },
  {
   "cell_type": "code",
   "execution_count": 3,
   "metadata": {},
   "outputs": [
    {
     "data": {
      "image/png": "[encoded data removed]",
      "text/plain": [
       "<Figure size 432x288 with 1 Axes>"
      ]
     },
     "metadata": {
      "needs_background": "light"
     },
     "output_type": "display_data"
    }
   ],
   "source": [
    "sns.countplot(x='Is_Fraud',data=data, palette='hls')\n",
    "plt.show()"
   ]
  },
  {
   "cell_type": "code",
   "execution_count": 4,
   "metadata": {},
   "outputs": [
    {
     "name": "stdout",
     "output_type": "stream",
     "text": [
      "Number of fraud transactions- 18213\n",
      "Number of non-fraud transactions- 6354407\n",
      "Percentage of fraud transacation 0.2858008166185964\n"
     ]
    }
   ],
   "source": [
    "Count_Fraud_transacation = len(data[data['Is_Fraud']==1])\n",
    "print(\"Number of fraud transactions-\",Count_Fraud_transacation)\n",
    "Count_Normal_transacation = len(data[data['Is_Fraud']==0])\n",
    "print(\"Number of non-fraud transactions-\",Count_Normal_transacation)\n",
    "Percentage_of_Fraud_transacation= Count_Fraud_transacation/(Count_Normal_transacation+Count_Fraud_transacation)\n",
    "print(\"Percentage of fraud transacation\",Percentage_of_Fraud_transacation*100)"
   ]
  },
  {
   "cell_type": "markdown",
   "metadata": {},
   "source": [
    "Distributions: By seeing the distributions we can have an idea how skewed are these features are. There are techniques that can help the distributions be less skewed. Let's try them !!\n",
    "\n",
    "##### Random- Under Sampling\n",
    "This method consists of removing data in order to have a more balanced dataset and thus avoiding the model to overfit.\n",
    "\n",
    "Steps:\n",
    "\n",
    "1) Determine how imbalanced is our class is.\n",
    "\n",
    "2) Once we determine how many instances are considered fraud transactions (Fraud = \"1\") , we should bring the non-fraud transactions to the same amount as fraud transactions (assuming we want a 50/50 ratio), this will be equivalent to 492 cases of fraud and 18213 cases of non-fraud transactions.\n",
    "\n",
    "3) After implementing this technique, we have a sub-sample of our dataframe with a 50/50 ratio with regards to our classes. Then the next step we will implement is to shuffle the data to see if our models can maintain a certain accuracy everytime we run this script.\n",
    "\n",
    "Note: The main issue with \"Random Under-Sampling\" is that we run the risk that our classification models will not perform as accurate as we would like to since there is a great deal of information loss (bringing 18213 non-fraud transaction from 6354407 non-fraud transaction)"
   ]
  },
  {
   "cell_type": "code",
   "execution_count": 6,
   "metadata": {},
   "outputs": [
    {
     "data": {
      "text/html": [
       "<div>\n",
       "<style scoped>\n",
       "    .dataframe tbody tr th:only-of-type {\n",
       "        vertical-align: middle;\n",
       "    }\n",
       "\n",
       "    .dataframe tbody tr th {\n",
       "        vertical-align: top;\n",
       "    }\n",
       "\n",
       "    .dataframe thead th {\n",
       "        text-align: right;\n",
       "    }\n",
       "</style>\n",
       "<table border=\"1\" class=\"dataframe\">\n",
       "  <thead>\n",
       "    <tr style=\"text-align: right;\">\n",
       "      <th></th>\n",
       "      <th>Time_Stamp</th>\n",
       "      <th>Transaction_Type</th>\n",
       "      <th>Amount</th>\n",
       "      <th>Client_Id</th>\n",
       "      <th>Client_Old_Balance</th>\n",
       "      <th>Cleint_New_Balance</th>\n",
       "      <th>Merchant_Id</th>\n",
       "      <th>Merchant_Old_Balance</th>\n",
       "      <th>Merchant_New_Balance</th>\n",
       "      <th>Is_Fraud</th>\n",
       "      <th>Is_Flagged_Fraud</th>\n",
       "    </tr>\n",
       "  </thead>\n",
       "  <tbody>\n",
       "    <tr>\n",
       "      <th>6065296</th>\n",
       "      <td>510</td>\n",
       "      <td>PURCHASE</td>\n",
       "      <td>3178881.71</td>\n",
       "      <td>C1338468864</td>\n",
       "      <td>3178881.71</td>\n",
       "      <td>0.00</td>\n",
       "      <td>C603795198</td>\n",
       "      <td>0.00</td>\n",
       "      <td>0.00</td>\n",
       "      <td>1</td>\n",
       "      <td>0</td>\n",
       "    </tr>\n",
       "    <tr>\n",
       "      <th>6364961</th>\n",
       "      <td>33</td>\n",
       "      <td>PURCHASE</td>\n",
       "      <td>1448630.38</td>\n",
       "      <td>C1084150990</td>\n",
       "      <td>1448630.38</td>\n",
       "      <td>0.00</td>\n",
       "      <td>C1409891653</td>\n",
       "      <td>0.00</td>\n",
       "      <td>0.00</td>\n",
       "      <td>1</td>\n",
       "      <td>0</td>\n",
       "    </tr>\n",
       "    <tr>\n",
       "      <th>6362802</th>\n",
       "      <td>425</td>\n",
       "      <td>CASH_OUT</td>\n",
       "      <td>10000000.00</td>\n",
       "      <td>C2043772409</td>\n",
       "      <td>10000000.00</td>\n",
       "      <td>0.00</td>\n",
       "      <td>M1597247232</td>\n",
       "      <td>10662599.15</td>\n",
       "      <td>20662599.15</td>\n",
       "      <td>1</td>\n",
       "      <td>0</td>\n",
       "    </tr>\n",
       "    <tr>\n",
       "      <th>6364762</th>\n",
       "      <td>425</td>\n",
       "      <td>CASH_OUT</td>\n",
       "      <td>10000000.00</td>\n",
       "      <td>C2043772409</td>\n",
       "      <td>10000000.00</td>\n",
       "      <td>0.00</td>\n",
       "      <td>M1597247232</td>\n",
       "      <td>10662599.15</td>\n",
       "      <td>20662599.15</td>\n",
       "      <td>1</td>\n",
       "      <td>0</td>\n",
       "    </tr>\n",
       "    <tr>\n",
       "      <th>5473192</th>\n",
       "      <td>379</td>\n",
       "      <td>BILL-PAYMENT</td>\n",
       "      <td>1088.34</td>\n",
       "      <td>C566509240</td>\n",
       "      <td>12641.78</td>\n",
       "      <td>11553.44</td>\n",
       "      <td>M864287103</td>\n",
       "      <td>0.00</td>\n",
       "      <td>0.00</td>\n",
       "      <td>0</td>\n",
       "      <td>0</td>\n",
       "    </tr>\n",
       "  </tbody>\n",
       "</table>\n",
       "</div>"
      ],
      "text/plain": [
       "         Time_Stamp Transaction_Type       Amount    Client_Id  \\\n",
       "6065296         510         PURCHASE   3178881.71  C1338468864   \n",
       "6364961          33         PURCHASE   1448630.38  C1084150990   \n",
       "6362802         425         CASH_OUT  10000000.00  C2043772409   \n",
       "6364762         425         CASH_OUT  10000000.00  C2043772409   \n",
       "5473192         379     BILL-PAYMENT      1088.34   C566509240   \n",
       "\n",
       "         Client_Old_Balance  Cleint_New_Balance  Merchant_Id  \\\n",
       "6065296          3178881.71                0.00   C603795198   \n",
       "6364961          1448630.38                0.00  C1409891653   \n",
       "6362802         10000000.00                0.00  M1597247232   \n",
       "6364762         10000000.00                0.00  M1597247232   \n",
       "5473192            12641.78            11553.44   M864287103   \n",
       "\n",
       "         Merchant_Old_Balance  Merchant_New_Balance  Is_Fraud  \\\n",
       "6065296                  0.00                  0.00         1   \n",
       "6364961                  0.00                  0.00         1   \n",
       "6362802           10662599.15           20662599.15         1   \n",
       "6364762           10662599.15           20662599.15         1   \n",
       "5473192                  0.00                  0.00         0   \n",
       "\n",
       "         Is_Flagged_Fraud  \n",
       "6065296                 0  \n",
       "6364961                 0  \n",
       "6362802                 0  \n",
       "6364762                 0  \n",
       "5473192                 0  "
      ]
     },
     "execution_count": 6,
     "metadata": {},
     "output_type": "execute_result"
    }
   ],
   "source": [
    "# Shuffle the data before creating the subsamples\n",
    "\n",
    "data = data.sample(frac=1)\n",
    "\n",
    "# amount of fraud classes 18213 rows.\n",
    "fraud_df = data.loc[data['Is_Fraud'] == 1]\n",
    "non_fraud_df = data.loc[data['Is_Fraud'] == 0][:18213]\n",
    "\n",
    "normal_distributed_df = pd.concat([fraud_df, non_fraud_df])\n",
    "\n",
    "# Shuffle dataframe rows\n",
    "new_df = normal_distributed_df.sample(frac=1, random_state=14)\n",
    "\n",
    "new_df.head()"
   ]
  },
  {
   "cell_type": "code",
   "execution_count": 7,
   "metadata": {},
   "outputs": [
    {
     "data": {
      "image/png": "[encoded data removed]",
      "text/plain": [
       "<Figure size 432x288 with 1 Axes>"
      ]
     },
     "metadata": {
      "needs_background": "light"
     },
     "output_type": "display_data"
    }
   ],
   "source": [
    "sns.countplot(x='Is_Fraud',data=new_df, palette='hls')\n",
    "plt.show()"
   ]
  }
 ],
 "metadata": {
  "kernelspec": {
   "display_name": "Python 3",
   "language": "python",
   "name": "python3"
  },
  "language_info": {
   "codemirror_mode": {
    "name": "ipython",
    "version": 3
   },
   "file_extension": ".py",
   "mimetype": "text/x-python",
   "name": "python",
   "nbconvert_exporter": "python",
   "pygments_lexer": "ipython3",
   "version": "3.6.7"
  }
 },
 "nbformat": 4,
 "nbformat_minor": 2
}
