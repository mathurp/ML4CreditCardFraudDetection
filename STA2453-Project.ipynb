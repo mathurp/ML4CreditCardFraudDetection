{
 "cells": [
  {
   "cell_type": "markdown",
   "metadata": {},
   "source": [
    "# STA2453 - Data Science Methods, Collaboration, and Communication\n",
    "\n",
    "# Credit Card Fraud Detection\n",
    "\n",
    "### Team -\n",
    "#### Pulkit Mathur\n",
    "#### Angad Kalra\n",
    "#### Shaung"
   ]
  },
  {
   "cell_type": "code",
   "execution_count": 99,
   "metadata": {},
   "outputs": [],
   "source": [
    "import pandas as pd\n",
    "import matplotlib.pyplot as plt\n",
    "import seaborn as sns\n",
    "import numpy as np\n",
    "import sklearn\n",
    "sns.set(style=\"white\")\n",
    "sns.set(style=\"whitegrid\", color_codes=True)"
   ]
  },
  {
   "cell_type": "code",
   "execution_count": 150,
   "metadata": {},
   "outputs": [
    {
     "data": {
      "text/html": [
       "<div>\n",
       "<style scoped>\n",
       "    .dataframe tbody tr th:only-of-type {\n",
       "        vertical-align: middle;\n",
       "    }\n",
       "\n",
       "    .dataframe tbody tr th {\n",
       "        vertical-align: top;\n",
       "    }\n",
       "\n",
       "    .dataframe thead th {\n",
       "        text-align: right;\n",
       "    }\n",
       "</style>\n",
       "<table border=\"1\" class=\"dataframe\">\n",
       "  <thead>\n",
       "    <tr style=\"text-align: right;\">\n",
       "      <th></th>\n",
       "      <th>Time_Stamp</th>\n",
       "      <th>Transaction_Type</th>\n",
       "      <th>Amount</th>\n",
       "      <th>Client_Id</th>\n",
       "      <th>Client_Old_Balance</th>\n",
       "      <th>Cleint_New_Balance</th>\n",
       "      <th>Merchant_Id</th>\n",
       "      <th>Merchant_Old_Balance</th>\n",
       "      <th>Merchant_New_Balance</th>\n",
       "      <th>Is_Fraud</th>\n",
       "      <th>Is_Flagged_Fraud</th>\n",
       "    </tr>\n",
       "  </thead>\n",
       "  <tbody>\n",
       "    <tr>\n",
       "      <th>0</th>\n",
       "      <td>1</td>\n",
       "      <td>BILL-PAYMENT</td>\n",
       "      <td>9839.64</td>\n",
       "      <td>C494672677</td>\n",
       "      <td>170136.0</td>\n",
       "      <td>160296.36</td>\n",
       "      <td>M582455116</td>\n",
       "      <td>0.0</td>\n",
       "      <td>0.0</td>\n",
       "      <td>0</td>\n",
       "      <td>0</td>\n",
       "    </tr>\n",
       "    <tr>\n",
       "      <th>1</th>\n",
       "      <td>1</td>\n",
       "      <td>BILL-PAYMENT</td>\n",
       "      <td>1864.28</td>\n",
       "      <td>C502607876</td>\n",
       "      <td>21249.0</td>\n",
       "      <td>19384.72</td>\n",
       "      <td>C214000796</td>\n",
       "      <td>0.0</td>\n",
       "      <td>0.0</td>\n",
       "      <td>0</td>\n",
       "      <td>0</td>\n",
       "    </tr>\n",
       "    <tr>\n",
       "      <th>2</th>\n",
       "      <td>1</td>\n",
       "      <td>PURCHASE</td>\n",
       "      <td>181.00</td>\n",
       "      <td>C633112680</td>\n",
       "      <td>181.0</td>\n",
       "      <td>0.00</td>\n",
       "      <td>M1922059099</td>\n",
       "      <td>0.0</td>\n",
       "      <td>0.0</td>\n",
       "      <td>1</td>\n",
       "      <td>0</td>\n",
       "    </tr>\n",
       "    <tr>\n",
       "      <th>3</th>\n",
       "      <td>1</td>\n",
       "      <td>CASH_OUT</td>\n",
       "      <td>181.00</td>\n",
       "      <td>C1993768127</td>\n",
       "      <td>181.0</td>\n",
       "      <td>0.00</td>\n",
       "      <td>M245426835</td>\n",
       "      <td>21182.0</td>\n",
       "      <td>0.0</td>\n",
       "      <td>1</td>\n",
       "      <td>0</td>\n",
       "    </tr>\n",
       "    <tr>\n",
       "      <th>4</th>\n",
       "      <td>1</td>\n",
       "      <td>BILL-PAYMENT</td>\n",
       "      <td>11668.14</td>\n",
       "      <td>C1445837831</td>\n",
       "      <td>41554.0</td>\n",
       "      <td>29885.86</td>\n",
       "      <td>M1368211346</td>\n",
       "      <td>0.0</td>\n",
       "      <td>0.0</td>\n",
       "      <td>0</td>\n",
       "      <td>0</td>\n",
       "    </tr>\n",
       "  </tbody>\n",
       "</table>\n",
       "</div>"
      ],
      "text/plain": [
       "   Time_Stamp Transaction_Type    Amount    Client_Id  Client_Old_Balance  \\\n",
       "0           1     BILL-PAYMENT   9839.64   C494672677            170136.0   \n",
       "1           1     BILL-PAYMENT   1864.28   C502607876             21249.0   \n",
       "2           1         PURCHASE    181.00   C633112680               181.0   \n",
       "3           1         CASH_OUT    181.00  C1993768127               181.0   \n",
       "4           1     BILL-PAYMENT  11668.14  C1445837831             41554.0   \n",
       "\n",
       "   Cleint_New_Balance  Merchant_Id  Merchant_Old_Balance  \\\n",
       "0           160296.36   M582455116                   0.0   \n",
       "1            19384.72   C214000796                   0.0   \n",
       "2                0.00  M1922059099                   0.0   \n",
       "3                0.00   M245426835               21182.0   \n",
       "4            29885.86  M1368211346                   0.0   \n",
       "\n",
       "   Merchant_New_Balance  Is_Fraud  Is_Flagged_Fraud  \n",
       "0                   0.0         0                 0  \n",
       "1                   0.0         0                 0  \n",
       "2                   0.0         1                 0  \n",
       "3                   0.0         1                 0  \n",
       "4                   0.0         0                 0  "
      ]
     },
     "execution_count": 150,
     "metadata": {},
     "output_type": "execute_result"
    }
   ],
   "source": [
    "whole_data = pd.read_csv('UofT/credit_card_fraud_data_v2.csv')\n",
    "whole_data.head()"
   ]
  },
  {
   "cell_type": "markdown",
   "metadata": {},
   "source": [
    "## Exploratory Data Analysis"
   ]
  },
  {
   "cell_type": "markdown",
   "metadata": {},
   "source": [
    "##### Transaction Distribution"
   ]
  },
  {
   "cell_type": "code",
   "execution_count": 39,
   "metadata": {},
   "outputs": [
    {
     "name": "stdout",
     "output_type": "stream",
     "text": [
      "Number of fraud transactions- 18213\n",
      "Number of non-fraud transactions- 6354407\n",
      "Percentage of fraud transacation 0.2858008166185964\n"
     ]
    }
   ],
   "source": [
    "Count_Fraud_transacation = len(whole_data[whole_data['Is_Fraud']==1])\n",
    "print(\"Number of fraud transactions-\",Count_Fraud_transacation)\n",
    "Count_Normal_transacation = len(whole_data[whole_data['Is_Fraud']==0])\n",
    "print(\"Number of non-fraud transactions-\",Count_Normal_transacation)\n",
    "Percentage_of_Fraud_transacation= Count_Fraud_transacation/(Count_Normal_transacation+Count_Fraud_transacation)\n",
    "print(\"Percentage of fraud transacation\",Percentage_of_Fraud_transacation*100)"
   ]
  },
  {
   "cell_type": "code",
   "execution_count": 43,
   "metadata": {},
   "outputs": [
    {
     "data": {
      "image/png": "[encoded data removed]",
      "text/plain": [
       "<Figure size 432x288 with 1 Axes>"
      ]
     },
     "metadata": {},
     "output_type": "display_data"
    }
   ],
   "source": [
    "sns.countplot(x='Is_Fraud',data=whole_data, palette='hls')\n",
    "plt.show()"
   ]
  },
  {
   "cell_type": "markdown",
   "metadata": {},
   "source": [
    "#### Types of transactions"
   ]
  },
  {
   "cell_type": "code",
   "execution_count": 38,
   "metadata": {},
   "outputs": [
    {
     "name": "stdout",
     "output_type": "stream",
     "text": [
      "Types of transactions:\n",
      "['BILL-PAYMENT' 'PURCHASE' 'CASH_OUT' 'DEBIT' 'CASH_IN']\n"
     ]
    }
   ],
   "source": [
    "print(whole_data['Transaction_Type'].unique())"
   ]
  },
  {
   "cell_type": "markdown",
   "metadata": {},
   "source": [
    "#### Number of entries per customer"
   ]
  },
  {
   "cell_type": "code",
   "execution_count": 26,
   "metadata": {},
   "outputs": [
    {
     "name": "stdout",
     "output_type": "stream",
     "text": [
      "Number of entries per customer\n",
      "MAX: 1010\n",
      "MEAN: 6.692895109683694\n",
      "MIN: 1\n"
     ]
    }
   ],
   "source": [
    "print(\"MAX:\",whole_data.groupby(['Client_Id'])['Time_Stamp'].count().max())\n",
    "print(\"MEAN:\",whole_data.groupby(['Client_Id'])['Time_Stamp'].count().mean())\n",
    "print(\"MIN:\",whole_data.groupby(['Client_Id'])['Time_Stamp'].count().min())"
   ]
  },
  {
   "cell_type": "markdown",
   "metadata": {},
   "source": [
    "#### Transaction type for fradulent transaction"
   ]
  },
  {
   "cell_type": "code",
   "execution_count": 34,
   "metadata": {},
   "outputs": [
    {
     "data": {
      "text/plain": [
       "Transaction_Type\n",
       "CASH_OUT    9116\n",
       "PURCHASE    9097\n",
       "Name: Is_Fraud, dtype: int64"
      ]
     },
     "execution_count": 34,
     "metadata": {},
     "output_type": "execute_result"
    }
   ],
   "source": [
    "whole_data[whole_data['Is_Fraud']==1].groupby(['Transaction_Type']).count()['Is_Fraud']"
   ]
  },
  {
   "cell_type": "markdown",
   "metadata": {},
   "source": [
    "#### Transaction type for non- fradulent transaction"
   ]
  },
  {
   "cell_type": "code",
   "execution_count": 35,
   "metadata": {},
   "outputs": [
    {
     "data": {
      "text/plain": [
       "Transaction_Type\n",
       "BILL-PAYMENT    2151495\n",
       "CASH_IN         1399284\n",
       "CASH_OUT        2233384\n",
       "DEBIT             41432\n",
       "PURCHASE         528812\n",
       "Name: Is_Fraud, dtype: int64"
      ]
     },
     "execution_count": 35,
     "metadata": {},
     "output_type": "execute_result"
    }
   ],
   "source": [
    "whole_data[whole_data['Is_Fraud']==0].groupby(['Transaction_Type']).count()['Is_Fraud']"
   ]
  },
  {
   "cell_type": "markdown",
   "metadata": {},
   "source": [
    "#### How efficient is Is_fault flagging??"
   ]
  },
  {
   "cell_type": "code",
   "execution_count": 83,
   "metadata": {},
   "outputs": [
    {
     "data": {
      "text/plain": [
       "False    6372604\n",
       "True          16\n",
       "dtype: int64"
      ]
     },
     "execution_count": 83,
     "metadata": {},
     "output_type": "execute_result"
    }
   ],
   "source": [
    "((whole_data['Is_Fraud']==1) & (whole_data['Is_Flagged_Fraud']==1)).value_counts()"
   ]
  },
  {
   "cell_type": "code",
   "execution_count": 84,
   "metadata": {},
   "outputs": [
    {
     "name": "stdout",
     "output_type": "stream",
     "text": [
      "percentage of data that was rightly classified:\n"
     ]
    },
    {
     "data": {
      "text/plain": [
       "0.0878493383846703"
      ]
     },
     "execution_count": 84,
     "metadata": {},
     "output_type": "execute_result"
    }
   ],
   "source": [
    "print('percentage of data that was rightly classified:')\n",
    "(16/len(whole_data[whole_data['Is_Fraud']==1]))*100"
   ]
  },
  {
   "cell_type": "markdown",
   "metadata": {},
   "source": [
    "## Feature Engineering"
   ]
  },
  {
   "cell_type": "code",
   "execution_count": 151,
   "metadata": {},
   "outputs": [],
   "source": [
    "whole_data['Client_change_in_balance'] = whole_data['Cleint_New_Balance'] - whole_data['Client_Old_Balance']\n",
    "whole_data['Merchant_change_in_balance'] = whole_data['Merchant_New_Balance'] - whole_data['Merchant_Old_Balance']\n",
    "whole_data['percentage_of_balance'] = (whole_data['Amount']/whole_data['Client_Old_Balance']) *100"
   ]
  },
  {
   "cell_type": "markdown",
   "metadata": {},
   "source": [
    "#### Some strange Facts"
   ]
  },
  {
   "cell_type": "code",
   "execution_count": 158,
   "metadata": {},
   "outputs": [
    {
     "data": {
      "text/html": [
       "<div>\n",
       "<style scoped>\n",
       "    .dataframe tbody tr th:only-of-type {\n",
       "        vertical-align: middle;\n",
       "    }\n",
       "\n",
       "    .dataframe tbody tr th {\n",
       "        vertical-align: top;\n",
       "    }\n",
       "\n",
       "    .dataframe thead th {\n",
       "        text-align: right;\n",
       "    }\n",
       "</style>\n",
       "<table border=\"1\" class=\"dataframe\">\n",
       "  <thead>\n",
       "    <tr style=\"text-align: right;\">\n",
       "      <th></th>\n",
       "      <th>Time_Stamp</th>\n",
       "      <th>Transaction_Type</th>\n",
       "      <th>Amount</th>\n",
       "      <th>Client_Id</th>\n",
       "      <th>Client_Old_Balance</th>\n",
       "      <th>Cleint_New_Balance</th>\n",
       "      <th>Merchant_Id</th>\n",
       "      <th>Merchant_Old_Balance</th>\n",
       "      <th>Merchant_New_Balance</th>\n",
       "      <th>Is_Fraud</th>\n",
       "      <th>Is_Flagged_Fraud</th>\n",
       "      <th>Client_change_in_balance</th>\n",
       "      <th>Merchant_change_in_balance</th>\n",
       "      <th>percentage_of_balance</th>\n",
       "    </tr>\n",
       "  </thead>\n",
       "  <tbody>\n",
       "    <tr>\n",
       "      <th>2736447</th>\n",
       "      <td>212</td>\n",
       "      <td>CASH_OUT</td>\n",
       "      <td>0.0</td>\n",
       "      <td>C1533131508</td>\n",
       "      <td>0.0</td>\n",
       "      <td>0.0</td>\n",
       "      <td>M1608767807</td>\n",
       "      <td>0.00</td>\n",
       "      <td>0.00</td>\n",
       "      <td>1</td>\n",
       "      <td>0</td>\n",
       "      <td>0.0</td>\n",
       "      <td>0.0</td>\n",
       "      <td>0.0</td>\n",
       "    </tr>\n",
       "    <tr>\n",
       "      <th>3247298</th>\n",
       "      <td>250</td>\n",
       "      <td>CASH_OUT</td>\n",
       "      <td>0.0</td>\n",
       "      <td>C1780497316</td>\n",
       "      <td>0.0</td>\n",
       "      <td>0.0</td>\n",
       "      <td>M20822566</td>\n",
       "      <td>0.00</td>\n",
       "      <td>0.00</td>\n",
       "      <td>1</td>\n",
       "      <td>0</td>\n",
       "      <td>0.0</td>\n",
       "      <td>0.0</td>\n",
       "      <td>0.0</td>\n",
       "    </tr>\n",
       "    <tr>\n",
       "      <th>3760289</th>\n",
       "      <td>279</td>\n",
       "      <td>CASH_OUT</td>\n",
       "      <td>0.0</td>\n",
       "      <td>C881485517</td>\n",
       "      <td>0.0</td>\n",
       "      <td>0.0</td>\n",
       "      <td>M1668533071</td>\n",
       "      <td>538547.63</td>\n",
       "      <td>538547.63</td>\n",
       "      <td>1</td>\n",
       "      <td>0</td>\n",
       "      <td>0.0</td>\n",
       "      <td>0.0</td>\n",
       "      <td>0.0</td>\n",
       "    </tr>\n",
       "    <tr>\n",
       "      <th>5563714</th>\n",
       "      <td>387</td>\n",
       "      <td>CASH_OUT</td>\n",
       "      <td>0.0</td>\n",
       "      <td>C647787714</td>\n",
       "      <td>0.0</td>\n",
       "      <td>0.0</td>\n",
       "      <td>M1913451129</td>\n",
       "      <td>7970766.57</td>\n",
       "      <td>7970766.57</td>\n",
       "      <td>1</td>\n",
       "      <td>0</td>\n",
       "      <td>0.0</td>\n",
       "      <td>0.0</td>\n",
       "      <td>0.0</td>\n",
       "    </tr>\n",
       "    <tr>\n",
       "      <th>5996408</th>\n",
       "      <td>425</td>\n",
       "      <td>CASH_OUT</td>\n",
       "      <td>0.0</td>\n",
       "      <td>C1654239658</td>\n",
       "      <td>0.0</td>\n",
       "      <td>0.0</td>\n",
       "      <td>C2068374328</td>\n",
       "      <td>76759.90</td>\n",
       "      <td>76759.90</td>\n",
       "      <td>1</td>\n",
       "      <td>0</td>\n",
       "      <td>0.0</td>\n",
       "      <td>0.0</td>\n",
       "      <td>0.0</td>\n",
       "    </tr>\n",
       "  </tbody>\n",
       "</table>\n",
       "</div>"
      ],
      "text/plain": [
       "         Time_Stamp Transaction_Type  Amount    Client_Id  Client_Old_Balance  \\\n",
       "2736447         212         CASH_OUT     0.0  C1533131508                 0.0   \n",
       "3247298         250         CASH_OUT     0.0  C1780497316                 0.0   \n",
       "3760289         279         CASH_OUT     0.0   C881485517                 0.0   \n",
       "5563714         387         CASH_OUT     0.0   C647787714                 0.0   \n",
       "5996408         425         CASH_OUT     0.0  C1654239658                 0.0   \n",
       "\n",
       "         Cleint_New_Balance  Merchant_Id  Merchant_Old_Balance  \\\n",
       "2736447                 0.0  M1608767807                  0.00   \n",
       "3247298                 0.0    M20822566                  0.00   \n",
       "3760289                 0.0  M1668533071             538547.63   \n",
       "5563714                 0.0  M1913451129            7970766.57   \n",
       "5996408                 0.0  C2068374328              76759.90   \n",
       "\n",
       "         Merchant_New_Balance  Is_Fraud  Is_Flagged_Fraud  \\\n",
       "2736447                  0.00         1                 0   \n",
       "3247298                  0.00         1                 0   \n",
       "3760289             538547.63         1                 0   \n",
       "5563714            7970766.57         1                 0   \n",
       "5996408              76759.90         1                 0   \n",
       "\n",
       "         Client_change_in_balance  Merchant_change_in_balance  \\\n",
       "2736447                       0.0                         0.0   \n",
       "3247298                       0.0                         0.0   \n",
       "3760289                       0.0                         0.0   \n",
       "5563714                       0.0                         0.0   \n",
       "5996408                       0.0                         0.0   \n",
       "\n",
       "         percentage_of_balance  \n",
       "2736447                    0.0  \n",
       "3247298                    0.0  \n",
       "3760289                    0.0  \n",
       "5563714                    0.0  \n",
       "5996408                    0.0  "
      ]
     },
     "execution_count": 158,
     "metadata": {},
     "output_type": "execute_result"
    }
   ],
   "source": [
    "whole_data[(whole_data['Client_Old_Balance']==0) & (whole_data['Cleint_New_Balance']==0) & (whole_data['Amount']==0)].head()"
   ]
  },
  {
   "cell_type": "markdown",
   "metadata": {},
   "source": [
    "If the Client old balance == 0 & Client new balance == 0 & Amount == 0\n",
    "then transaction is fradulent"
   ]
  },
  {
   "cell_type": "code",
   "execution_count": 153,
   "metadata": {},
   "outputs": [],
   "source": [
    "# Replacing NAN with 0\n",
    "whole_data['percentage_of_balance'] = whole_data['percentage_of_balance'].fillna(0)\n",
    "# Replacing infinity values with -1 (Rows with amount>0 and Client old balance == 0)\n",
    "whole_data['percentage_of_balance'] = whole_data['percentage_of_balance'].replace([np.inf], -1)"
   ]
  },
  {
   "cell_type": "markdown",
   "metadata": {},
   "source": [
    "#### Checking consistency of Data"
   ]
  },
  {
   "cell_type": "markdown",
   "metadata": {},
   "source": [
    "#### Amount == Change in Balance"
   ]
  },
  {
   "cell_type": "code",
   "execution_count": 60,
   "metadata": {},
   "outputs": [
    {
     "data": {
      "text/plain": [
       "Is_Fraud\n",
       "0    920951\n",
       "1     18144\n",
       "dtype: int64"
      ]
     },
     "execution_count": 60,
     "metadata": {},
     "output_type": "execute_result"
    }
   ],
   "source": [
    "whole_data[whole_data['Amount']==abs(whole_data['Client_change_in_balance'])].groupby('Is_Fraud').size()"
   ]
  },
  {
   "cell_type": "markdown",
   "metadata": {},
   "source": [
    "#### Amount != Change in Balance"
   ]
  },
  {
   "cell_type": "code",
   "execution_count": 61,
   "metadata": {},
   "outputs": [
    {
     "data": {
      "text/plain": [
       "Is_Fraud\n",
       "0    5433456\n",
       "1         69\n",
       "dtype: int64"
      ]
     },
     "execution_count": 61,
     "metadata": {},
     "output_type": "execute_result"
    }
   ],
   "source": [
    "whole_data[whole_data['Amount']!=abs(whole_data['Client_change_in_balance'])].groupby('Is_Fraud').size()"
   ]
  },
  {
   "cell_type": "markdown",
   "metadata": {},
   "source": [
    "#### Amount distribution for fradulent (1) and non-fradulent (0) transactions"
   ]
  },
  {
   "cell_type": "code",
   "execution_count": 100,
   "metadata": {},
   "outputs": [
    {
     "data": {
      "image/png": "[encoded data removed]",
      "text/plain": [
       "<Figure size 432x288 with 1 Axes>"
      ]
     },
     "metadata": {},
     "output_type": "display_data"
    }
   ],
   "source": [
    "sns.set(style=\"whitegrid\")\n",
    "sns.boxplot(x=\"Is_Fraud\", y=\"Amount\", data=whole_data)\n",
    "plt.show()"
   ]
  },
  {
   "cell_type": "code",
   "execution_count": 101,
   "metadata": {},
   "outputs": [
    {
     "data": {
      "image/png": "[encoded data removed]",
      "text/plain": [
       "<Figure size 432x288 with 1 Axes>"
      ]
     },
     "metadata": {},
     "output_type": "display_data"
    }
   ],
   "source": [
    "sns.boxplot(x=\"Is_Fraud\", y=\"percentage_of_balance\", data=whole_data)\n",
    "plt.show()"
   ]
  },
  {
   "cell_type": "code",
   "execution_count": 157,
   "metadata": {},
   "outputs": [
    {
     "data": {
      "text/html": [
       "<div>\n",
       "<style scoped>\n",
       "    .dataframe tbody tr th:only-of-type {\n",
       "        vertical-align: middle;\n",
       "    }\n",
       "\n",
       "    .dataframe tbody tr th {\n",
       "        vertical-align: top;\n",
       "    }\n",
       "\n",
       "    .dataframe thead th {\n",
       "        text-align: right;\n",
       "    }\n",
       "</style>\n",
       "<table border=\"1\" class=\"dataframe\">\n",
       "  <thead>\n",
       "    <tr style=\"text-align: right;\">\n",
       "      <th></th>\n",
       "      <th>Amount</th>\n",
       "      <th>Client_Old_Balance</th>\n",
       "      <th>Cleint_New_Balance</th>\n",
       "      <th>Merchant_Old_Balance</th>\n",
       "      <th>Merchant_New_Balance</th>\n",
       "      <th>Is_Fraud</th>\n",
       "      <th>Client_change_in_balance</th>\n",
       "      <th>Merchant_change_in_balance</th>\n",
       "      <th>percentage_of_balance</th>\n",
       "      <th>Transaction_Type_BILL-PAYMENT</th>\n",
       "      <th>Transaction_Type_CASH_IN</th>\n",
       "      <th>Transaction_Type_CASH_OUT</th>\n",
       "      <th>Transaction_Type_DEBIT</th>\n",
       "      <th>Transaction_Type_PURCHASE</th>\n",
       "    </tr>\n",
       "  </thead>\n",
       "  <tbody>\n",
       "    <tr>\n",
       "      <th>0</th>\n",
       "      <td>9839.64</td>\n",
       "      <td>170136.0</td>\n",
       "      <td>160296.36</td>\n",
       "      <td>0.0</td>\n",
       "      <td>0.0</td>\n",
       "      <td>0</td>\n",
       "      <td>-9839.64</td>\n",
       "      <td>0.0</td>\n",
       "      <td>5.783397</td>\n",
       "      <td>1</td>\n",
       "      <td>0</td>\n",
       "      <td>0</td>\n",
       "      <td>0</td>\n",
       "      <td>0</td>\n",
       "    </tr>\n",
       "    <tr>\n",
       "      <th>1</th>\n",
       "      <td>1864.28</td>\n",
       "      <td>21249.0</td>\n",
       "      <td>19384.72</td>\n",
       "      <td>0.0</td>\n",
       "      <td>0.0</td>\n",
       "      <td>0</td>\n",
       "      <td>-1864.28</td>\n",
       "      <td>0.0</td>\n",
       "      <td>8.773495</td>\n",
       "      <td>1</td>\n",
       "      <td>0</td>\n",
       "      <td>0</td>\n",
       "      <td>0</td>\n",
       "      <td>0</td>\n",
       "    </tr>\n",
       "    <tr>\n",
       "      <th>2</th>\n",
       "      <td>181.00</td>\n",
       "      <td>181.0</td>\n",
       "      <td>0.00</td>\n",
       "      <td>0.0</td>\n",
       "      <td>0.0</td>\n",
       "      <td>1</td>\n",
       "      <td>-181.00</td>\n",
       "      <td>0.0</td>\n",
       "      <td>100.000000</td>\n",
       "      <td>0</td>\n",
       "      <td>0</td>\n",
       "      <td>0</td>\n",
       "      <td>0</td>\n",
       "      <td>1</td>\n",
       "    </tr>\n",
       "    <tr>\n",
       "      <th>3</th>\n",
       "      <td>181.00</td>\n",
       "      <td>181.0</td>\n",
       "      <td>0.00</td>\n",
       "      <td>21182.0</td>\n",
       "      <td>0.0</td>\n",
       "      <td>1</td>\n",
       "      <td>-181.00</td>\n",
       "      <td>-21182.0</td>\n",
       "      <td>100.000000</td>\n",
       "      <td>0</td>\n",
       "      <td>0</td>\n",
       "      <td>1</td>\n",
       "      <td>0</td>\n",
       "      <td>0</td>\n",
       "    </tr>\n",
       "    <tr>\n",
       "      <th>4</th>\n",
       "      <td>11668.14</td>\n",
       "      <td>41554.0</td>\n",
       "      <td>29885.86</td>\n",
       "      <td>0.0</td>\n",
       "      <td>0.0</td>\n",
       "      <td>0</td>\n",
       "      <td>-11668.14</td>\n",
       "      <td>0.0</td>\n",
       "      <td>28.079463</td>\n",
       "      <td>1</td>\n",
       "      <td>0</td>\n",
       "      <td>0</td>\n",
       "      <td>0</td>\n",
       "      <td>0</td>\n",
       "    </tr>\n",
       "  </tbody>\n",
       "</table>\n",
       "</div>"
      ],
      "text/plain": [
       "     Amount  Client_Old_Balance  Cleint_New_Balance  Merchant_Old_Balance  \\\n",
       "0   9839.64            170136.0           160296.36                   0.0   \n",
       "1   1864.28             21249.0            19384.72                   0.0   \n",
       "2    181.00               181.0                0.00                   0.0   \n",
       "3    181.00               181.0                0.00               21182.0   \n",
       "4  11668.14             41554.0            29885.86                   0.0   \n",
       "\n",
       "   Merchant_New_Balance  Is_Fraud  Client_change_in_balance  \\\n",
       "0                   0.0         0                  -9839.64   \n",
       "1                   0.0         0                  -1864.28   \n",
       "2                   0.0         1                   -181.00   \n",
       "3                   0.0         1                   -181.00   \n",
       "4                   0.0         0                 -11668.14   \n",
       "\n",
       "   Merchant_change_in_balance  percentage_of_balance  \\\n",
       "0                         0.0               5.783397   \n",
       "1                         0.0               8.773495   \n",
       "2                         0.0             100.000000   \n",
       "3                    -21182.0             100.000000   \n",
       "4                         0.0              28.079463   \n",
       "\n",
       "   Transaction_Type_BILL-PAYMENT  Transaction_Type_CASH_IN  \\\n",
       "0                              1                         0   \n",
       "1                              1                         0   \n",
       "2                              0                         0   \n",
       "3                              0                         0   \n",
       "4                              1                         0   \n",
       "\n",
       "   Transaction_Type_CASH_OUT  Transaction_Type_DEBIT  \\\n",
       "0                          0                       0   \n",
       "1                          0                       0   \n",
       "2                          0                       0   \n",
       "3                          1                       0   \n",
       "4                          0                       0   \n",
       "\n",
       "   Transaction_Type_PURCHASE  \n",
       "0                          0  \n",
       "1                          0  \n",
       "2                          1  \n",
       "3                          0  \n",
       "4                          0  "
      ]
     },
     "execution_count": 157,
     "metadata": {},
     "output_type": "execute_result"
    }
   ],
   "source": [
    "model_data = whole_data.drop(columns=['Client_Id', 'Merchant_Id','Is_Flagged_Fraud','Time_Stamp'])\n",
    "model_data = pd.get_dummies(model_data, columns=['Transaction_Type'])\n",
    "model_data.head()"
   ]
  },
  {
   "cell_type": "code",
   "execution_count": 159,
   "metadata": {},
   "outputs": [
    {
     "data": {
      "text/html": [
       "<div>\n",
       "<style scoped>\n",
       "    .dataframe tbody tr th:only-of-type {\n",
       "        vertical-align: middle;\n",
       "    }\n",
       "\n",
       "    .dataframe tbody tr th {\n",
       "        vertical-align: top;\n",
       "    }\n",
       "\n",
       "    .dataframe thead th {\n",
       "        text-align: right;\n",
       "    }\n",
       "</style>\n",
       "<table border=\"1\" class=\"dataframe\">\n",
       "  <thead>\n",
       "    <tr style=\"text-align: right;\">\n",
       "      <th></th>\n",
       "      <th>Amount</th>\n",
       "      <th>Client_Old_Balance</th>\n",
       "      <th>Cleint_New_Balance</th>\n",
       "      <th>Merchant_Old_Balance</th>\n",
       "      <th>Merchant_New_Balance</th>\n",
       "      <th>Is_Fraud</th>\n",
       "      <th>Client_change_in_balance</th>\n",
       "      <th>Merchant_change_in_balance</th>\n",
       "      <th>percentage_of_balance</th>\n",
       "      <th>Transaction_Type_BILL-PAYMENT</th>\n",
       "      <th>Transaction_Type_CASH_IN</th>\n",
       "      <th>Transaction_Type_CASH_OUT</th>\n",
       "      <th>Transaction_Type_DEBIT</th>\n",
       "      <th>Transaction_Type_PURCHASE</th>\n",
       "    </tr>\n",
       "  </thead>\n",
       "  <tbody>\n",
       "    <tr>\n",
       "      <th>0</th>\n",
       "      <td>-0.276350</td>\n",
       "      <td>-0.230542</td>\n",
       "      <td>-0.237475</td>\n",
       "      <td>-0.324504</td>\n",
       "      <td>-0.333994</td>\n",
       "      <td>0</td>\n",
       "      <td>-0.117119</td>\n",
       "      <td>-0.153388</td>\n",
       "      <td>-0.024027</td>\n",
       "      <td>1</td>\n",
       "      <td>0</td>\n",
       "      <td>0</td>\n",
       "      <td>0</td>\n",
       "      <td>0</td>\n",
       "    </tr>\n",
       "    <tr>\n",
       "      <th>1</th>\n",
       "      <td>-0.289043</td>\n",
       "      <td>-0.282022</td>\n",
       "      <td>-0.285699</td>\n",
       "      <td>-0.324504</td>\n",
       "      <td>-0.333994</td>\n",
       "      <td>0</td>\n",
       "      <td>-0.082703</td>\n",
       "      <td>-0.153388</td>\n",
       "      <td>-0.024018</td>\n",
       "      <td>1</td>\n",
       "      <td>0</td>\n",
       "      <td>0</td>\n",
       "      <td>0</td>\n",
       "      <td>0</td>\n",
       "    </tr>\n",
       "    <tr>\n",
       "      <th>2</th>\n",
       "      <td>-0.291722</td>\n",
       "      <td>-0.289306</td>\n",
       "      <td>-0.292333</td>\n",
       "      <td>-0.324504</td>\n",
       "      <td>-0.333994</td>\n",
       "      <td>1</td>\n",
       "      <td>-0.075439</td>\n",
       "      <td>-0.153388</td>\n",
       "      <td>-0.023750</td>\n",
       "      <td>0</td>\n",
       "      <td>0</td>\n",
       "      <td>0</td>\n",
       "      <td>0</td>\n",
       "      <td>1</td>\n",
       "    </tr>\n",
       "    <tr>\n",
       "      <th>3</th>\n",
       "      <td>-0.291722</td>\n",
       "      <td>-0.289306</td>\n",
       "      <td>-0.292333</td>\n",
       "      <td>-0.318278</td>\n",
       "      <td>-0.333994</td>\n",
       "      <td>1</td>\n",
       "      <td>-0.075439</td>\n",
       "      <td>-0.179163</td>\n",
       "      <td>-0.023750</td>\n",
       "      <td>0</td>\n",
       "      <td>0</td>\n",
       "      <td>1</td>\n",
       "      <td>0</td>\n",
       "      <td>0</td>\n",
       "    </tr>\n",
       "    <tr>\n",
       "      <th>4</th>\n",
       "      <td>-0.273440</td>\n",
       "      <td>-0.275001</td>\n",
       "      <td>-0.282105</td>\n",
       "      <td>-0.324504</td>\n",
       "      <td>-0.333994</td>\n",
       "      <td>0</td>\n",
       "      <td>-0.125009</td>\n",
       "      <td>-0.153388</td>\n",
       "      <td>-0.023962</td>\n",
       "      <td>1</td>\n",
       "      <td>0</td>\n",
       "      <td>0</td>\n",
       "      <td>0</td>\n",
       "      <td>0</td>\n",
       "    </tr>\n",
       "  </tbody>\n",
       "</table>\n",
       "</div>"
      ],
      "text/plain": [
       "     Amount  Client_Old_Balance  Cleint_New_Balance  Merchant_Old_Balance  \\\n",
       "0 -0.276350           -0.230542           -0.237475             -0.324504   \n",
       "1 -0.289043           -0.282022           -0.285699             -0.324504   \n",
       "2 -0.291722           -0.289306           -0.292333             -0.324504   \n",
       "3 -0.291722           -0.289306           -0.292333             -0.318278   \n",
       "4 -0.273440           -0.275001           -0.282105             -0.324504   \n",
       "\n",
       "   Merchant_New_Balance  Is_Fraud  Client_change_in_balance  \\\n",
       "0             -0.333994         0                 -0.117119   \n",
       "1             -0.333994         0                 -0.082703   \n",
       "2             -0.333994         1                 -0.075439   \n",
       "3             -0.333994         1                 -0.075439   \n",
       "4             -0.333994         0                 -0.125009   \n",
       "\n",
       "   Merchant_change_in_balance  percentage_of_balance  \\\n",
       "0                   -0.153388              -0.024027   \n",
       "1                   -0.153388              -0.024018   \n",
       "2                   -0.153388              -0.023750   \n",
       "3                   -0.179163              -0.023750   \n",
       "4                   -0.153388              -0.023962   \n",
       "\n",
       "   Transaction_Type_BILL-PAYMENT  Transaction_Type_CASH_IN  \\\n",
       "0                              1                         0   \n",
       "1                              1                         0   \n",
       "2                              0                         0   \n",
       "3                              0                         0   \n",
       "4                              1                         0   \n",
       "\n",
       "   Transaction_Type_CASH_OUT  Transaction_Type_DEBIT  \\\n",
       "0                          0                       0   \n",
       "1                          0                       0   \n",
       "2                          0                       0   \n",
       "3                          1                       0   \n",
       "4                          0                       0   \n",
       "\n",
       "   Transaction_Type_PURCHASE  \n",
       "0                          0  \n",
       "1                          0  \n",
       "2                          1  \n",
       "3                          0  \n",
       "4                          0  "
      ]
     },
     "execution_count": 159,
     "metadata": {},
     "output_type": "execute_result"
    }
   ],
   "source": [
    "from sklearn.preprocessing import StandardScaler\n",
    "cols_to_norm = ['Amount','Client_Old_Balance','Cleint_New_Balance','Merchant_Old_Balance','Merchant_New_Balance','Client_change_in_balance',\n",
    "'Merchant_change_in_balance','percentage_of_balance']\n",
    "model_data[cols_to_norm] = StandardScaler().fit_transform(model_data[cols_to_norm])\n",
    "model_data.head()"
   ]
  },
  {
   "cell_type": "markdown",
   "metadata": {},
   "source": [
    "Distributions: \n",
    "\n",
    "Number of fraud transactions- 18213\n",
    "Number of non-fraud transactions- 6354407\n",
    "\n",
    "By seeing the distributions we can have an idea how skewed are these features are. There are techniques that can help the distributions be less skewed. Let's try them !!\n",
    "\n",
    "##### Random- Under Sampling\n",
    "This method consists of removing data in order to have a more balanced dataset and thus avoiding the model to overfit.\n",
    "\n",
    "Steps:\n",
    "\n",
    "1) Determine how imbalanced is our class is.\n",
    "\n",
    "2) Once we determine how many instances are considered fraud transactions (Fraud = \"1\") , we should bring the non-fraud transactions to the same amount as fraud transactions (assuming we want a 50/50 ratio)\n",
    "\n",
    "3) After implementing this technique, we have a sub-sample of our dataframe with a 50/50 ratio with regards to our classes. Then the next step we will implement is to shuffle the data to see if our models can maintain a certain accuracy.\n",
    "\n",
    "Note: The main issue with \"Random Under-Sampling\" is that we run the risk that our classification models will not perform as accurate as we would like to since there is a great deal of information loss (bringing 18213 non-fraud transaction from 6354407 non-fraud transaction)"
   ]
  },
  {
   "cell_type": "code",
   "execution_count": 160,
   "metadata": {},
   "outputs": [
    {
     "data": {
      "text/html": [
       "<div>\n",
       "<style scoped>\n",
       "    .dataframe tbody tr th:only-of-type {\n",
       "        vertical-align: middle;\n",
       "    }\n",
       "\n",
       "    .dataframe tbody tr th {\n",
       "        vertical-align: top;\n",
       "    }\n",
       "\n",
       "    .dataframe thead th {\n",
       "        text-align: right;\n",
       "    }\n",
       "</style>\n",
       "<table border=\"1\" class=\"dataframe\">\n",
       "  <thead>\n",
       "    <tr style=\"text-align: right;\">\n",
       "      <th></th>\n",
       "      <th>Amount</th>\n",
       "      <th>Client_Old_Balance</th>\n",
       "      <th>Cleint_New_Balance</th>\n",
       "      <th>Merchant_Old_Balance</th>\n",
       "      <th>Merchant_New_Balance</th>\n",
       "      <th>Is_Fraud</th>\n",
       "      <th>Client_change_in_balance</th>\n",
       "      <th>Merchant_change_in_balance</th>\n",
       "      <th>percentage_of_balance</th>\n",
       "      <th>Transaction_Type_BILL-PAYMENT</th>\n",
       "      <th>Transaction_Type_CASH_IN</th>\n",
       "      <th>Transaction_Type_CASH_OUT</th>\n",
       "      <th>Transaction_Type_DEBIT</th>\n",
       "      <th>Transaction_Type_PURCHASE</th>\n",
       "    </tr>\n",
       "  </thead>\n",
       "  <tbody>\n",
       "    <tr>\n",
       "      <th>6370325</th>\n",
       "      <td>1.344915</td>\n",
       "      <td>0.066252</td>\n",
       "      <td>-0.292333</td>\n",
       "      <td>-0.324504</td>\n",
       "      <td>-0.054746</td>\n",
       "      <td>1</td>\n",
       "      <td>-4.512995</td>\n",
       "      <td>1.098149</td>\n",
       "      <td>-0.023750</td>\n",
       "      <td>0</td>\n",
       "      <td>0</td>\n",
       "      <td>1</td>\n",
       "      <td>0</td>\n",
       "      <td>0</td>\n",
       "    </tr>\n",
       "    <tr>\n",
       "      <th>1030418</th>\n",
       "      <td>-0.241758</td>\n",
       "      <td>-0.278452</td>\n",
       "      <td>-0.292333</td>\n",
       "      <td>-0.265903</td>\n",
       "      <td>-0.271287</td>\n",
       "      <td>1</td>\n",
       "      <td>-0.210911</td>\n",
       "      <td>-0.114966</td>\n",
       "      <td>-0.023750</td>\n",
       "      <td>0</td>\n",
       "      <td>0</td>\n",
       "      <td>1</td>\n",
       "      <td>0</td>\n",
       "      <td>0</td>\n",
       "    </tr>\n",
       "    <tr>\n",
       "      <th>6365470</th>\n",
       "      <td>0.667383</td>\n",
       "      <td>-0.080941</td>\n",
       "      <td>-0.292333</td>\n",
       "      <td>-0.324504</td>\n",
       "      <td>-0.333994</td>\n",
       "      <td>1</td>\n",
       "      <td>-2.675942</td>\n",
       "      <td>-0.153388</td>\n",
       "      <td>-0.023750</td>\n",
       "      <td>0</td>\n",
       "      <td>0</td>\n",
       "      <td>0</td>\n",
       "      <td>0</td>\n",
       "      <td>1</td>\n",
       "    </tr>\n",
       "    <tr>\n",
       "      <th>6365385</th>\n",
       "      <td>1.344915</td>\n",
       "      <td>0.066252</td>\n",
       "      <td>-0.292333</td>\n",
       "      <td>-0.324504</td>\n",
       "      <td>-0.054746</td>\n",
       "      <td>1</td>\n",
       "      <td>-4.512995</td>\n",
       "      <td>1.098149</td>\n",
       "      <td>-0.023750</td>\n",
       "      <td>0</td>\n",
       "      <td>0</td>\n",
       "      <td>1</td>\n",
       "      <td>0</td>\n",
       "      <td>0</td>\n",
       "    </tr>\n",
       "    <tr>\n",
       "      <th>2709806</th>\n",
       "      <td>-0.282109</td>\n",
       "      <td>-0.264849</td>\n",
       "      <td>-0.270193</td>\n",
       "      <td>-0.324504</td>\n",
       "      <td>-0.333994</td>\n",
       "      <td>0</td>\n",
       "      <td>-0.101503</td>\n",
       "      <td>-0.153388</td>\n",
       "      <td>-0.024018</td>\n",
       "      <td>1</td>\n",
       "      <td>0</td>\n",
       "      <td>0</td>\n",
       "      <td>0</td>\n",
       "      <td>0</td>\n",
       "    </tr>\n",
       "  </tbody>\n",
       "</table>\n",
       "</div>"
      ],
      "text/plain": [
       "           Amount  Client_Old_Balance  Cleint_New_Balance  \\\n",
       "6370325  1.344915            0.066252           -0.292333   \n",
       "1030418 -0.241758           -0.278452           -0.292333   \n",
       "6365470  0.667383           -0.080941           -0.292333   \n",
       "6365385  1.344915            0.066252           -0.292333   \n",
       "2709806 -0.282109           -0.264849           -0.270193   \n",
       "\n",
       "         Merchant_Old_Balance  Merchant_New_Balance  Is_Fraud  \\\n",
       "6370325             -0.324504             -0.054746         1   \n",
       "1030418             -0.265903             -0.271287         1   \n",
       "6365470             -0.324504             -0.333994         1   \n",
       "6365385             -0.324504             -0.054746         1   \n",
       "2709806             -0.324504             -0.333994         0   \n",
       "\n",
       "         Client_change_in_balance  Merchant_change_in_balance  \\\n",
       "6370325                 -4.512995                    1.098149   \n",
       "1030418                 -0.210911                   -0.114966   \n",
       "6365470                 -2.675942                   -0.153388   \n",
       "6365385                 -4.512995                    1.098149   \n",
       "2709806                 -0.101503                   -0.153388   \n",
       "\n",
       "         percentage_of_balance  Transaction_Type_BILL-PAYMENT  \\\n",
       "6370325              -0.023750                              0   \n",
       "1030418              -0.023750                              0   \n",
       "6365470              -0.023750                              0   \n",
       "6365385              -0.023750                              0   \n",
       "2709806              -0.024018                              1   \n",
       "\n",
       "         Transaction_Type_CASH_IN  Transaction_Type_CASH_OUT  \\\n",
       "6370325                         0                          1   \n",
       "1030418                         0                          1   \n",
       "6365470                         0                          0   \n",
       "6365385                         0                          1   \n",
       "2709806                         0                          0   \n",
       "\n",
       "         Transaction_Type_DEBIT  Transaction_Type_PURCHASE  \n",
       "6370325                       0                          0  \n",
       "1030418                       0                          0  \n",
       "6365470                       0                          1  \n",
       "6365385                       0                          0  \n",
       "2709806                       0                          0  "
      ]
     },
     "execution_count": 160,
     "metadata": {},
     "output_type": "execute_result"
    }
   ],
   "source": [
    "# Shuffle the data before creating the subsamples\n",
    "\n",
    "model_data = model_data.sample(frac=1, random_state=10)\n",
    "\n",
    "# amount of fraud classes 18213 rows.\n",
    "fraud_df = model_data.loc[model_data['Is_Fraud'] == 1]\n",
    "non_fraud_df = model_data.loc[model_data['Is_Fraud'] == 0][:18213]\n",
    "\n",
    "combined_df = pd.concat([fraud_df, non_fraud_df])\n",
    "\n",
    "# Shuffle dataframe rows\n",
    "undersampled_data = combined_df.sample(frac=1, random_state=14)\n",
    "\n",
    "undersampled_data.head()"
   ]
  },
  {
   "cell_type": "code",
   "execution_count": 161,
   "metadata": {},
   "outputs": [
    {
     "data": {
      "image/png": "[encoded data removed]",
      "text/plain": [
       "<Figure size 432x288 with 1 Axes>"
      ]
     },
     "metadata": {},
     "output_type": "display_data"
    }
   ],
   "source": [
    "sns.countplot(x='Is_Fraud',data=undersampled_data, palette='hls')\n",
    "plt.show()"
   ]
  },
  {
   "cell_type": "code",
   "execution_count": 171,
   "metadata": {},
   "outputs": [
    {
     "data": {
      "image/png": "[encoded data removed]",
      "text/plain": [
       "<Figure size 1440x720 with 2 Axes>"
      ]
     },
     "metadata": {},
     "output_type": "display_data"
    }
   ],
   "source": [
    "f, (ax1) = plt.subplots(1, 1, figsize=(20,10))\n",
    "\n",
    "corr = model_data.corr()\n",
    "sns.heatmap(corr, cmap='coolwarm_r', annot_kws={'size':20}, ax=ax1)\n",
    "ax1.set_title(\"Imbalanced Correlation Matrix \\n (don't use for reference)\", fontsize=14)\n",
    "plt.show()"
   ]
  },
  {
   "cell_type": "code",
   "execution_count": 172,
   "metadata": {},
   "outputs": [
    {
     "data": {
      "image/png": "[encoded data removed]",
      "text/plain": [
       "<Figure size 1440x720 with 2 Axes>"
      ]
     },
     "metadata": {},
     "output_type": "display_data"
    }
   ],
   "source": [
    "f, (ax1) = plt.subplots(1, 1, figsize=(20,10))\n",
    "sub_sample_corr = undersampled_data.corr()\n",
    "sns.heatmap(sub_sample_corr, cmap='coolwarm_r', annot_kws={'size':20}, ax=ax1)\n",
    "ax1.set_title('SubSample Correlation Matrix \\n (use for reference)', fontsize=14)\n",
    "plt.show()"
   ]
  },
  {
   "cell_type": "markdown",
   "metadata": {},
   "source": [
    "### Spliting the Data"
   ]
  },
  {
   "cell_type": "code",
   "execution_count": 174,
   "metadata": {},
   "outputs": [
    {
     "name": "stdout",
     "output_type": "stream",
     "text": [
      "Number transactions train dataset from unsampled  dataset:  25498\n",
      "Number transactions test dataset from unsampled  dataset:  10928\n",
      "Total number of transactions in unsampled  dataset:  36426\n"
     ]
    }
   ],
   "source": [
    "from sklearn.model_selection import train_test_split\n",
    "X = undersampled_data.iloc[:, undersampled_data.columns != 'Is_Fraud']\n",
    "y = undersampled_data.iloc[:, undersampled_data.columns == 'Is_Fraud']\n",
    "# Whole dataset\n",
    "X_train, X_test, y_train, y_test = train_test_split(X,y,test_size = 0.3, random_state = 0)\n",
    "\n",
    "print(\"Number transactions train dataset from unsampled  dataset: \", len(X_train))\n",
    "print(\"Number transactions test dataset from unsampled  dataset: \", len(X_test))\n",
    "print(\"Total number of transactions in unsampled  dataset: \", len(X_train)+len(X_test))"
   ]
  },
  {
   "cell_type": "code",
   "execution_count": 176,
   "metadata": {},
   "outputs": [
    {
     "name": "stderr",
     "output_type": "stream",
     "text": [
      "C:\\Users\\admin\\Anaconda3\\lib\\site-packages\\sklearn\\utils\\validation.py:578: DataConversionWarning: A column-vector y was passed when a 1d array was expected. Please change the shape of y to (n_samples, ), for example using ravel().\n",
      "  y = column_or_1d(y, warn=True)\n"
     ]
    }
   ],
   "source": [
    "from sklearn.linear_model import LogisticRegressionCV\n",
    "from sklearn.model_selection import cross_validate\n",
    "\n",
    "model = LogisticRegressionCV(penalty='l2', cv=5)\n",
    "model = model.fit(X_train, y_train)"
   ]
  },
  {
   "cell_type": "code",
   "execution_count": 177,
   "metadata": {},
   "outputs": [
    {
     "name": "stdout",
     "output_type": "stream",
     "text": [
      "AUC: 0.994600047026889\n"
     ]
    },
    {
     "data": {
      "image/png": "[encoded data removed]",
      "text/plain": [
       "<Figure size 432x288 with 1 Axes>"
      ]
     },
     "metadata": {},
     "output_type": "display_data"
    },
    {
     "name": "stdout",
     "output_type": "stream",
     "text": [
      "Accuracy: 0.9607430453879942\n",
      "F1 score: 0.9604353038826893\n"
     ]
    }
   ],
   "source": [
    "from sklearn.metrics import roc_auc_score, f1_score, roc_curve\n",
    "y_pred = model.predict_proba(X_test)\n",
    "print(\"AUC:\",roc_auc_score(y_test, y_pred[:,1]))\n",
    "# Plot ROC Curve\n",
    "fpr, tpr, thres = roc_curve(y_test, y_pred[:,1])\n",
    "plt.plot(fpr, tpr)\n",
    "plt.show()\n",
    "print(\"Accuracy:\",model.score(X_test, y_test))\n",
    "y_hat = model.predict(X_test)\n",
    "print(\"F1 score:\",f1_score(y_test, y_hat))"
   ]
  }
 ],
 "metadata": {
  "kernelspec": {
   "display_name": "Python 3",
   "language": "python",
   "name": "python3"
  },
  "language_info": {
   "codemirror_mode": {
    "name": "ipython",
    "version": 3
   },
   "file_extension": ".py",
   "mimetype": "text/x-python",
   "name": "python",
   "nbconvert_exporter": "python",
   "pygments_lexer": "ipython3",
   "version": "3.6.5"
  }
 },
 "nbformat": 4,
 "nbformat_minor": 2
}
