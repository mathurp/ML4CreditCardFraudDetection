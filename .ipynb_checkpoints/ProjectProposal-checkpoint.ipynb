{
 "cells": [
  {
   "cell_type": "markdown",
   "metadata": {},
   "source": [
    "### Group Members: \n",
    "* Angad Kalra, 1005134999\n",
    "* Pulkit Mathur, SN\n",
    "* Shuang Di, SN\n",
    "\n",
    "### January 15, 2019"
   ]
  },
  {
   "cell_type": "markdown",
   "metadata": {},
   "source": [
    "### Project Title: City Planning for Healthy Breathing "
   ]
  },
  {
   "cell_type": "markdown",
   "metadata": {},
   "source": [
    "### Collaborator: ..."
   ]
  },
  {
   "cell_type": "markdown",
   "metadata": {},
   "source": [
    "### Primary Questions: \n",
    "\n",
    "1. How do we define areas of high/low emission?\n",
    "    1. What characteristics make up areas of high emission?\n",
    "    2. What characteristics make up areas of low emission?  \n",
    "2. Find areas of high emission in GTA "
   ]
  },
  {
   "cell_type": "markdown",
   "metadata": {},
   "source": [
    "### Data Collection Methodology:\n",
    "We will be using the following datasets provided by Geotab:\n",
    "    1. Idling Areas\n",
    "    2. Searching for Parking\n",
    "    3. Intersection Metrics\n",
    "    4. Road Impediments\n",
    "    5. Hazardous Driving Areas \n",
    "    \n",
    "We will query the data we need using SQL within Python's BigQuery library and transform the data into a Pandas DataFrame for analysis. \n",
    "    \n",
    "In addition, we will use air pollution data from www.airqualityontario.com in CSV format. "
   ]
  },
  {
   "cell_type": "markdown",
   "metadata": {},
   "source": [
    "### Exploratory Data Analysis \n",
    "\n",
    "#### Assume that we are only analyzing intersections within GTA \n",
    "\n",
    "#### Idling Areas\n",
    "    * \n",
    "#### Searching for Parking\n",
    "    * \n",
    "#### Intersection Metrics\n",
    "\n",
    "1. Plot the average and median idling time while waiting to pass through the intersections, over time. \n",
    "2. Compare high idling time intersections to air quality around those areas. \n",
    "    \n",
    "#### Road Impediments\n",
    "    * \n",
    "#### Hazardous Driving Areas\n",
    "1. Plot 2D graph of hazardous driving areas with their air quality to determine whether there is a correlation between the area severity score and poor air quality. "
   ]
  },
  {
   "cell_type": "markdown",
   "metadata": {},
   "source": [
    "### Modelling\n",
    "* Once we have determined what a high emission area is "
   ]
  },
  {
   "cell_type": "markdown",
   "metadata": {},
   "source": [
    "### Division of Duties"
   ]
  },
  {
   "cell_type": "code",
   "execution_count": null,
   "metadata": {},
   "outputs": [],
   "source": []
  }
 ],
 "metadata": {
  "kernelspec": {
   "display_name": "Python 3",
   "language": "python",
   "name": "python3"
  },
  "language_info": {
   "codemirror_mode": {
    "name": "ipython",
    "version": 3
   },
   "file_extension": ".py",
   "mimetype": "text/x-python",
   "name": "python",
   "nbconvert_exporter": "python",
   "pygments_lexer": "ipython3",
   "version": "3.5.2"
  }
 },
 "nbformat": 4,
 "nbformat_minor": 2
}
