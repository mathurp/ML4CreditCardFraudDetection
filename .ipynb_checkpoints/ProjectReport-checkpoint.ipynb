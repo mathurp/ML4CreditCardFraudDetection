{
 "cells": [
  {
   "cell_type": "markdown",
   "metadata": {},
   "source": [
    "# Catching Criminals with Math\n",
    "### Identification of fraudulent credit card transactions using statistical and machine learning models\n",
    "#### March 8th, 2019"
   ]
  },
  {
   "cell_type": "markdown",
   "metadata": {},
   "source": [
    "#### Authors: Angad S. Kalra, Shuang Di, Pulkit Mathur\n",
    "#### Collaborators: Shobhit Jain and Adam Rahman"
   ]
  },
  {
   "cell_type": "markdown",
   "metadata": {},
   "source": [
    "### Introduction\n",
    "(TODO...)"
   ]
  },
  {
   "cell_type": "markdown",
   "metadata": {},
   "source": [
    "###  Methods\n",
    "\n",
    "#### Feature Engineering \n",
    "1. Transform Transaction_Type column into a one-hot encoding using Pandas get_dummies() function.\n",
    "2. Remove these columns: 'Time_Stamp', 'Merchant_Id', 'Merchant_Old_Balance', 'Merchant_New_Balance', 'Is_Flagged_Fraud'. \n",
    "3. Create feature '%_of_balance' by performing transaction-wise division: Amount/Client_Old_Balance.  \n",
    "4. Combine Client_Old_Balance and Client_New_Balance into one feature by taking the difference in values. Remove Client_Old_Balance and Client_New_Balance Columns. \n",
    "\n",
    "#### Data Preprocessing\n",
    "1. Standardize all numerical columns by subtracting each value in a column from the mean and dividing by the standard deviation. \n",
    "\n",
    "#### Undersample Majority Class\n",
    "1. TODO\n",
    "\n",
    "#### Model Training \n",
    "* TODO\n",
    "\n",
    "#### Model Evaluation \n",
    "* TODO"
   ]
  },
  {
   "cell_type": "markdown",
   "metadata": {},
   "source": [
    "### Results\n",
    "(TODO...)"
   ]
  },
  {
   "cell_type": "markdown",
   "metadata": {},
   "source": [
    "### Discussion\n",
    "(TODO...)"
   ]
  },
  {
   "cell_type": "markdown",
   "metadata": {},
   "source": [
    "### Limitations\n",
    "(TODO...)"
   ]
  },
  {
   "cell_type": "code",
   "execution_count": null,
   "metadata": {},
   "outputs": [],
   "source": []
  }
 ],
 "metadata": {
  "hide_input": false,
  "kernelspec": {
   "display_name": "Python 3",
   "language": "python",
   "name": "python3"
  },
  "language_info": {
   "codemirror_mode": {
    "name": "ipython",
    "version": 3
   },
   "file_extension": ".py",
   "mimetype": "text/x-python",
   "name": "python",
   "nbconvert_exporter": "python",
   "pygments_lexer": "ipython3",
   "version": "3.5.2"
  }
 },
 "nbformat": 4,
 "nbformat_minor": 2
}
