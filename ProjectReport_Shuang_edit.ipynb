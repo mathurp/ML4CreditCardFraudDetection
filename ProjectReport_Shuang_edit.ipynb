{
 "cells": [
  {
   "cell_type": "markdown",
   "metadata": {},
   "source": [
    "# Catching Criminals with Math\n",
    "### Identification of fraudulent credit card transactions using statistical and machine learning models\n",
    "#### March 8th, 2019"
   ]
  },
  {
   "cell_type": "markdown",
   "metadata": {},
   "source": [
    "#### Authors: Angad S. Kalra, Shuang Di, Pulkit Mathur\n",
    "#### Collaborators: Shobhit Jain and Adam Rahman"
   ]
  },
  {
   "cell_type": "markdown",
   "metadata": {},
   "source": [
    "### Introduction\n",
    "\n",
    "#### Project Background:\n",
    "* Every year billions of dollars are lost worldwide due to credit card fraud, which forces financial institutions to continuously improve their fraud detection systems. In recent years, several studies have proposed the use of machine learning and data mining techniques to address this problem.\n",
    "* When constructing a credit card fraud detection model, it is very important to extract the right features from the transactional data. However, this has not been addressed much in previous studies.\n",
    "* Moreover, most studies used some sort of misclassification measure to evaluate the different solutions, and do not take into account the actual financial costs associated with the fraud detection process.\n",
    "* In this project, we expand the existing work on credit card fraud dection by performing different feature engineering techniques, machine learning algorithms, and model evaluation methods with actual financial cost take into consideration.\n",
    "\n",
    "#### Primary Questions: \n",
    "1. What are the characteristics of fraudulent transactions?  \n",
    "2. Can a online/real-time ML model accurately detect fraudulent activity? \n",
    "3. Is there a statistical/ML model that can accurately detect fraud through retrospective data? "
   ]
  },
  {
   "cell_type": "markdown",
   "metadata": {},
   "source": [
    "###  Methods\n",
    "\n",
    "#### Data Collection:\n",
    "In this project, we work on a synthetic dataset generated using the simulator called PaySim. The data is given to us in a CSV. There are approx. 6.3 million transactions from approx. 950K clients.\n",
    "\n",
    "#### Feature Engineering:\n",
    "For feature engineering, we will extract features from raw data that capture both customer spending patterns and time series information.\n",
    "\n",
    "Specifically, a transaction aggregation strategy proposed in previous literature will be used to capture the spending patterns. The derivation of the aggregation features consists in grouping the transactions made during the last given number of hours, first by card or account number, then by transaction type, merchant group, followed by calculating the number of transactions or the total amount spent on those transactions.\n",
    "\n",
    "To capture the time series information associated with a transaction, we will model the time of the transaction as a periodic variable, using the von Mises distribution (periodic normal distribution).\n",
    "\n",
    "#### Modelling:\n",
    "We have performed the following machine learning algorithms on the dataset:\n",
    "* Logistic Regression\n",
    "* SVM\n",
    "* Random Forest\n",
    "* KNN\n",
    "* Decision Tree"
   ]
  },
  {
   "cell_type": "markdown",
   "metadata": {},
   "source": [
    "### Results\n",
    "\n",
    "#### Exploratory Data Analysis:\n",
    "\n",
    "Exploratory Data Analysis has been carried out to answer the folowing questions:\n",
    "\n",
    "1. What is the ratio of non-fraud transactions to fraud transactions? \n",
    "2. What is the average number of trans. per client?\n",
    "3. What are the counts for different transactions types for fraud transactions? Use histogram. \n",
    "4. How many unique merchant IDs are there? Are there any common merchants for fraud transactions? \n",
    "\n",
    "By exploring the dataset and answering these questions, we've come up with insights that can help with data preprocessing, feature engineering, model selection, and model evaluation.\n",
    "* First, we know that the data is severely unbalanced because the number of transactions that are fraud is 0.3% of the dataset (approx. 18000). Thus, we explored different training techniques such as under-sampling and over-sampling, so we can have an equal number of positive and negative cases.\n",
    "* Also, we notice that the proportion of clients with more than 1 transaction recorded is very small (around 1.5%); thus it is not feasible to fit time series model on each client's transaction data.\n",
    "* In addition, we also know that all the fraud transactions were one of two types: Cash-Out and Purchase. Thus we might explore how filtering incoming transactions can increase prediction accuracy."
   ]
  },
  {
   "cell_type": "markdown",
   "metadata": {},
   "source": [
    "### Discussion\n",
    "(TODO...)"
   ]
  },
  {
   "cell_type": "markdown",
   "metadata": {},
   "source": [
    "### Limitations\n",
    "(TODO...)"
   ]
  },
  {
   "cell_type": "code",
   "execution_count": null,
   "metadata": {},
   "outputs": [],
   "source": []
  }
 ],
 "metadata": {
  "hide_input": false,
  "kernelspec": {
   "display_name": "Python 3",
   "language": "python",
   "name": "python3"
  },
  "language_info": {
   "codemirror_mode": {
    "name": "ipython",
    "version": 3
   },
   "file_extension": ".py",
   "mimetype": "text/x-python",
   "name": "python",
   "nbconvert_exporter": "python",
   "pygments_lexer": "ipython3",
   "version": "3.6.8"
  }
 },
 "nbformat": 4,
 "nbformat_minor": 2
}
