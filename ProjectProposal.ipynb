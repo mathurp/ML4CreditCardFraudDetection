{
 "cells": [
  {
   "cell_type": "markdown",
   "metadata": {},
   "source": [
    "# City Planning for Healthy Breathing\n",
    "### January 15, 2019\n",
    "### Collaborator: Kyle Liu (Data Scientist at Geotab)\n",
    "### Group Members: \n",
    "* Angad Kalra, 1005134999\n",
    "* Pulkit Mathur, SN\n",
    "* Shuang Di, 1002085815"
   ]
  },
  {
   "cell_type": "markdown",
   "metadata": {},
   "source": [
    "### Primary Questions: \n",
    "\n",
    "1. How do we define areas of high/low emission?\n",
    "    1. What characteristics make up areas of high emission?\n",
    "    2. What characteristics make up areas of low emission?  \n",
    "2. Find areas of high emission in GTA "
   ]
  },
  {
   "cell_type": "markdown",
   "metadata": {},
   "source": [
    "### Data Collection Methodology:\n",
    "We will be using the following datasets provided by Geotab:\n",
    "    1. Idling Areas\n",
    "    2. Searching for Parking\n",
    "    3. Intersection Metrics\n",
    "    4. Road Impediments\n",
    "    5. Hazardous Driving Areas \n",
    "    \n",
    "We will query the data we need using SQL within Python's BigQuery library and transform the data into a Pandas DataFrame for analysis. \n",
    "    \n",
    "In addition, we will also use the following datasets from City of Toronto Open Data Catalogue and Air Quality Ontario in CSV format:  \n",
    "* City Energy Consumption and Greenhouse Gas Emissions Data  \n",
    "* Green P Parking  \n",
    "* On-Street Permit Parking Area Maps\n",
    "* Air Quality Data Sets (http://www.airqualityontario.com)"
   ]
  },
  {
   "cell_type": "markdown",
   "metadata": {},
   "source": [
    "### Exploratory Data Analysis \n",
    "\n",
    "#### Assume that we are only analyzing intersections within GTA \n",
    "\n",
    "#### Idling Areas\n",
    "1. Idling time distribution according to vehicle type\n",
    "2. Idling time distribution according to fule type\n",
    "3. Finding areas with the Highest Number of Commercial Idling Areas \n",
    "\n",
    "#### Searching for Parking\n",
    "1. Create dynamic heat maps of time taken to search for parking and number of drivers searching for parking to identify areas of high parking demand and check the change over time.\n",
    "\n",
    "2. Compare the heat maps with greenhouse gas emissiona and air quality data to determine if there are correlations between high parking demand, greenhouse gas emission, and air quality.\n",
    "    \n",
    "#### Intersection Metrics\n",
    "\n",
    "1. Plot the average and median idling time while waiting to pass through the intersections, over time. \n",
    "2. Compare high idling time intersections to air quality around those areas. \n",
    "    \n",
    "#### Road Impediments\n",
    "1. Finding moderate and severe impediment areas and compare to air quality for a period of time. \n",
    "\n",
    "#### Hazardous Driving Areas\n",
    "1. Plot 2D graph of hazardous driving areas with their air quality to determine whether there is a correlation between the area severity score and poor air quality. "
   ]
  },
  {
   "cell_type": "markdown",
   "metadata": {},
   "source": [
    "### Modelling\n",
    "* Once we have determined what a high emission area is, we plan on using a classification method such as decision trees to classify our GTA areas. \n",
    "* We also might use an unsupervised clustering method such as K-Means to assess which intersections are similar and why they are similar.\n",
    "* We need to do more research on vehicle emissions and what the causes and effects are to be able to build a valuable classification model."
   ]
  },
  {
   "cell_type": "markdown",
   "metadata": {},
   "source": [
    "### Division of Duties"
   ]
  },
  {
   "cell_type": "code",
   "execution_count": null,
   "metadata": {},
   "outputs": [],
   "source": []
  }
 ],
 "metadata": {
  "kernelspec": {
   "display_name": "Python 3",
   "language": "python",
   "name": "python3"
  },
  "language_info": {
   "codemirror_mode": {
    "name": "ipython",
    "version": 3
   },
   "file_extension": ".py",
   "mimetype": "text/x-python",
   "name": "python",
   "nbconvert_exporter": "python",
   "pygments_lexer": "ipython3",
   "version": "3.5.2"
  }
 },
 "nbformat": 4,
 "nbformat_minor": 2
}
