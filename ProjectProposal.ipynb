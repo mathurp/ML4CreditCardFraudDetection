{
 "cells": [
  {
   "cell_type": "markdown",
   "metadata": {},
   "source": [
    "# City Planning for Healthy Breathing\n",
    "### January 15, 2019\n",
    "### Collaborator: Kyle Liu (Data Scientist at Geotab)\n",
    "### Group Members: \n",
    "* Angad Kalra, 1005134999\n",
    "* Pulkit Mathur, SN\n",
    "* Shuang Di, 1002085815"
   ]
  },
  {
   "cell_type": "markdown",
   "metadata": {},
   "source": [
    "### Primary Questions: \n",
    "\n",
    "1. How do we define areas of high/low emission?\n",
    "    1. What characteristics make up areas of high emission?\n",
    "    2. What characteristics make up areas of low emission?  \n",
    "2. Find areas of high/low emission in GTA "
   ]
  },
  {
   "cell_type": "markdown",
   "metadata": {},
   "source": [
    "### Data Collection Methodology:\n",
    "We will be using the following datasets provided by Geotab:\n",
    "* Areas of Idling  \n",
    "* Hazardous Driving Areas  \n",
    "* Intersection Metrics  \n",
    "* Road Impediments  \n",
    "* Searching for Parking  \n",
    "\n",
    "We will query the data we need using SQL within Python's BigQuery library and transform the data into a Pandas DataFrame for analysis.\n",
    "    \n",
    "In addition, we will also use the following datasets from City of Toronto Open Data Catalogue and Air Quality Ontario in CSV format:  \n",
    "* City Energy Consumption and Greenhouse Gas Emissions Data  \n",
    "* Green P Parking  \n",
    "* On-Street Permit Parking Area Maps\n",
    "* Air Quality Data Sets (http://www.airqualityontario.com)"
   ]
  },
  {
   "cell_type": "markdown",
   "metadata": {},
   "source": [
    "### Exploratory Data Analysis \n",
    "\n",
    "#### Assume that we are only analyzing intersections within GTA \n",
    "\n",
    "#### Idling Areas\n",
    "    * \n",
    "\n",
    "#### Searching for Parking\n",
    "1. Create dynamic heat maps of time taken to search for parking and number of drivers searching for parking to identify areas of high parking demand and check the change over time.  \n",
    "2. Compare the heat maps with greenhouse gas emissiona and air quality data to determine if there are correlations between high parking demand, greenhouse gas emission, and air quality.\n",
    "\n",
    "#### Intersection Metrics\n",
    "1. Plot the average and median idling time while waiting to pass through the intersections, over time. \n",
    "2. Compare high idling time intersections to air quality around those areas. \n",
    "    \n",
    "#### Road Impediments\n",
    "    * \n",
    "#### Hazardous Driving Areas\n",
    "1. Plot 2D graph of hazardous driving areas with their air quality to determine whether there is a correlation between the area severity score and poor air quality. "
   ]
  },
  {
   "cell_type": "markdown",
   "metadata": {},
   "source": [
    "### Modelling\n",
    "* Once we have determined what a high emission area is "
   ]
  },
  {
   "cell_type": "markdown",
   "metadata": {},
   "source": [
    "### Division of Duties"
   ]
  },
  {
   "cell_type": "code",
   "execution_count": null,
   "metadata": {},
   "outputs": [],
   "source": []
  }
 ],
 "metadata": {
  "kernelspec": {
   "display_name": "Python 3",
   "language": "python",
   "name": "python3"
  },
  "language_info": {
   "codemirror_mode": {
    "name": "ipython",
    "version": 3
   },
   "file_extension": ".py",
   "mimetype": "text/x-python",
   "name": "python",
   "nbconvert_exporter": "python",
   "pygments_lexer": "ipython3",
   "version": "3.6.5"
  }
 },
 "nbformat": 4,
 "nbformat_minor": 2
}
