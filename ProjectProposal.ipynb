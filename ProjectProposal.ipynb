{
 "cells": [
  {
   "cell_type": "markdown",
   "metadata": {},
   "source": [
    "# Catching Criminals With Math\n",
    "### February 19, 2019\n",
    "### Collaborator: Shobhit Jain and \tAdam Rahman (Data Scientists at Manulife)\n",
    "### Group Members: \n",
    "* Angad Kalra, 1005134999\n",
    "* Pulkit Mathur, 1005483692\n",
    "* Shuang Di, 1002085815"
   ]
  },
  {
   "cell_type": "markdown",
   "metadata": {},
   "source": [
    "### Primary Questions: \n",
    "\n",
    "1. What are the characteristics of fraudulent transactions?  \n",
    "2. Can a online/real-time ML model accurately detect fraudulent activity? \n",
    "3. Is there a statistical/ML model that can accurately detect fraud through retrospective data? "
   ]
  },
  {
   "cell_type": "markdown",
   "metadata": {},
   "source": [
    "### Data Collection Methodology:\n",
    "* The data is given to us in a CSV. There are approx. 6.3 million transactions from approx. 950K clients. "
   ]
  },
  {
   "cell_type": "code",
   "execution_count": 1,
   "metadata": {},
   "outputs": [
    {
     "data": {
      "text/plain": [
       "(6372620, 11)"
      ]
     },
     "execution_count": 1,
     "metadata": {},
     "output_type": "execute_result"
    }
   ],
   "source": [
    "import numpy as np\n",
    "import pandas as pd\n",
    "import matplotlib.pyplot as plt\n",
    "\n",
    "trans_df = pd.read_csv('../data/credit_card_fraud_data_v2.csv')\n",
    "\n",
    "trans_df.shape"
   ]
  },
  {
   "cell_type": "code",
   "execution_count": 2,
   "metadata": {},
   "outputs": [
    {
     "data": {
      "text/plain": [
       "Index(['Time_Stamp', 'Transaction_Type', 'Amount', 'Client_Id',\n",
       "       'Client_Old_Balance', 'Cleint_New_Balance', 'Merchant_Id',\n",
       "       'Merchant_Old_Balance', 'Merchant_New_Balance', 'Is_Fraud',\n",
       "       'Is_Flagged_Fraud'],\n",
       "      dtype='object')"
      ]
     },
     "execution_count": 2,
     "metadata": {},
     "output_type": "execute_result"
    }
   ],
   "source": [
    "trans_df.columns"
   ]
  },
  {
   "cell_type": "code",
   "execution_count": 3,
   "metadata": {},
   "outputs": [
    {
     "data": {
      "text/html": [
       "<div>\n",
       "<style scoped>\n",
       "    .dataframe tbody tr th:only-of-type {\n",
       "        vertical-align: middle;\n",
       "    }\n",
       "\n",
       "    .dataframe tbody tr th {\n",
       "        vertical-align: top;\n",
       "    }\n",
       "\n",
       "    .dataframe thead th {\n",
       "        text-align: right;\n",
       "    }\n",
       "</style>\n",
       "<table border=\"1\" class=\"dataframe\">\n",
       "  <thead>\n",
       "    <tr style=\"text-align: right;\">\n",
       "      <th></th>\n",
       "      <th>Time_Stamp</th>\n",
       "      <th>Transaction_Type</th>\n",
       "      <th>Amount</th>\n",
       "      <th>Client_Id</th>\n",
       "      <th>Client_Old_Balance</th>\n",
       "      <th>Cleint_New_Balance</th>\n",
       "      <th>Merchant_Id</th>\n",
       "      <th>Merchant_Old_Balance</th>\n",
       "      <th>Merchant_New_Balance</th>\n",
       "      <th>Is_Fraud</th>\n",
       "      <th>Is_Flagged_Fraud</th>\n",
       "    </tr>\n",
       "  </thead>\n",
       "  <tbody>\n",
       "    <tr>\n",
       "      <th>0</th>\n",
       "      <td>1</td>\n",
       "      <td>BILL-PAYMENT</td>\n",
       "      <td>9839.64</td>\n",
       "      <td>C494672677</td>\n",
       "      <td>170136.0</td>\n",
       "      <td>160296.36</td>\n",
       "      <td>M582455116</td>\n",
       "      <td>0.0</td>\n",
       "      <td>0.0</td>\n",
       "      <td>0</td>\n",
       "      <td>0</td>\n",
       "    </tr>\n",
       "    <tr>\n",
       "      <th>1</th>\n",
       "      <td>1</td>\n",
       "      <td>BILL-PAYMENT</td>\n",
       "      <td>1864.28</td>\n",
       "      <td>C502607876</td>\n",
       "      <td>21249.0</td>\n",
       "      <td>19384.72</td>\n",
       "      <td>C214000796</td>\n",
       "      <td>0.0</td>\n",
       "      <td>0.0</td>\n",
       "      <td>0</td>\n",
       "      <td>0</td>\n",
       "    </tr>\n",
       "    <tr>\n",
       "      <th>2</th>\n",
       "      <td>1</td>\n",
       "      <td>PURCHASE</td>\n",
       "      <td>181.00</td>\n",
       "      <td>C633112680</td>\n",
       "      <td>181.0</td>\n",
       "      <td>0.00</td>\n",
       "      <td>M1922059099</td>\n",
       "      <td>0.0</td>\n",
       "      <td>0.0</td>\n",
       "      <td>1</td>\n",
       "      <td>0</td>\n",
       "    </tr>\n",
       "    <tr>\n",
       "      <th>3</th>\n",
       "      <td>1</td>\n",
       "      <td>CASH_OUT</td>\n",
       "      <td>181.00</td>\n",
       "      <td>C1993768127</td>\n",
       "      <td>181.0</td>\n",
       "      <td>0.00</td>\n",
       "      <td>M245426835</td>\n",
       "      <td>21182.0</td>\n",
       "      <td>0.0</td>\n",
       "      <td>1</td>\n",
       "      <td>0</td>\n",
       "    </tr>\n",
       "    <tr>\n",
       "      <th>4</th>\n",
       "      <td>1</td>\n",
       "      <td>BILL-PAYMENT</td>\n",
       "      <td>11668.14</td>\n",
       "      <td>C1445837831</td>\n",
       "      <td>41554.0</td>\n",
       "      <td>29885.86</td>\n",
       "      <td>M1368211346</td>\n",
       "      <td>0.0</td>\n",
       "      <td>0.0</td>\n",
       "      <td>0</td>\n",
       "      <td>0</td>\n",
       "    </tr>\n",
       "  </tbody>\n",
       "</table>\n",
       "</div>"
      ],
      "text/plain": [
       "   Time_Stamp Transaction_Type    Amount    Client_Id  Client_Old_Balance  \\\n",
       "0           1     BILL-PAYMENT   9839.64   C494672677            170136.0   \n",
       "1           1     BILL-PAYMENT   1864.28   C502607876             21249.0   \n",
       "2           1         PURCHASE    181.00   C633112680               181.0   \n",
       "3           1         CASH_OUT    181.00  C1993768127               181.0   \n",
       "4           1     BILL-PAYMENT  11668.14  C1445837831             41554.0   \n",
       "\n",
       "   Cleint_New_Balance  Merchant_Id  Merchant_Old_Balance  \\\n",
       "0           160296.36   M582455116                   0.0   \n",
       "1            19384.72   C214000796                   0.0   \n",
       "2                0.00  M1922059099                   0.0   \n",
       "3                0.00   M245426835               21182.0   \n",
       "4            29885.86  M1368211346                   0.0   \n",
       "\n",
       "   Merchant_New_Balance  Is_Fraud  Is_Flagged_Fraud  \n",
       "0                   0.0         0                 0  \n",
       "1                   0.0         0                 0  \n",
       "2                   0.0         1                 0  \n",
       "3                   0.0         1                 0  \n",
       "4                   0.0         0                 0  "
      ]
     },
     "execution_count": 3,
     "metadata": {},
     "output_type": "execute_result"
    }
   ],
   "source": [
    "trans_df.head()"
   ]
  },
  {
   "cell_type": "markdown",
   "metadata": {},
   "source": [
    "### Exploratory Data Analysis \n",
    "\n",
    "Questions to answer:\n",
    "\n",
    "1. What is the ratio of non-fraud transactions to fraud transactions? \n",
    "2. What is the average number of trans. per client?\n",
    "3. What are the counts for different transactions types for fraud transactions? Use histogram. \n",
    "4. How many unique merchant IDs are there? Are there any common merchants for fraud transactions? \n",
    "\n",
    "These questions will give us insights into the data that can help with preprocessing data, feature engineering, model choice, and model evaluation. For example. we know that the data is severely unbalanced because the number of transactions that are fraud is 0.3% of the dataset (approx. 18000). Thus, we will explore different training techniques such as under-sampling so we can have an equal number of positive and negative cases. In addition, we also know that all the fraud transactions were one of two types: Cash-Out and Purchase. Thus we might explore how filtering incoming transactions can increase prediction accuracy.  "
   ]
  },
  {
   "cell_type": "markdown",
   "metadata": {},
   "source": [
    "### Modelling\n",
    "* Decision Trees\n",
    "* Isolation Forest\n",
    "* Logistic Regression\n",
    "* KNN\n",
    "* SVM\n",
    "* A time series model for classification...need to do more research...\n",
    "\n",
    "We plan on generating more features from the ones given. We also plan on undersampling/oversampling the data to see how it affects our performance. "
   ]
  },
  {
   "cell_type": "markdown",
   "metadata": {},
   "source": [
    "### Division of Duties\n",
    "\n",
    "#### EDA - All of Us\n",
    "1. We will all perform EDA individually using different techniques. For example, we can split up the given features and each one of us could start looking at the correlations between different features and fraudulent transactions. \n",
    "\n",
    "#### Feature Engineering - Angad, Pulkit\n",
    "1. Create novel features that can be used within our models. Examples of features could be: \n",
    "* Absolute balance difference (|Client_new_balance - Client_old_balance|)\n",
    "* Number of transaction in last t hours  t = {1,4,8,16,24}\n",
    "* Which quartile does the transaction belong to. (Quartile of Amount column)\n",
    "* Amount/Client_Old_Balance\n",
    "\n",
    "#### Modelling & Testing/Evaluation - All of Us\n",
    "1. Tree-Based Methods: Angad\n",
    "2. Regression: Pulkit\n",
    "3. Clustering: Shuang \n",
    "4. Time-Series: All of us? "
   ]
  },
  {
   "cell_type": "code",
   "execution_count": null,
   "metadata": {},
   "outputs": [],
   "source": []
  }
 ],
 "metadata": {
  "hide_input": false,
  "kernelspec": {
   "display_name": "Python 3",
   "language": "python",
   "name": "python3"
  },
  "language_info": {
   "codemirror_mode": {
    "name": "ipython",
    "version": 3
   },
   "file_extension": ".py",
   "mimetype": "text/x-python",
   "name": "python",
   "nbconvert_exporter": "python",
   "pygments_lexer": "ipython3",
   "version": "3.5.2"
  }
 },
 "nbformat": 4,
 "nbformat_minor": 2
}
